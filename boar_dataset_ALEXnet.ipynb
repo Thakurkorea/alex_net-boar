{
  "nbformat": 4,
  "nbformat_minor": 0,
  "metadata": {
    "colab": {
      "provenance": [],
      "machine_shape": "hm"
    },
    "kernelspec": {
      "name": "python3",
      "display_name": "Python 3"
    },
    "accelerator": "GPU"
  },
  "cells": [
    {
      "cell_type": "code",
      "metadata": {
        "id": "TibyjS4Cy5a2"
      },
      "source": [
        "from google.colab import drive\n",
        "drive.mount('/content/drive')"
      ],
      "execution_count": null,
      "outputs": []
    },
    {
      "cell_type": "code",
      "metadata": {
        "id": "pYao8SplzXo3"
      },
      "source": [
        "#-*- coding: utf-8 -*-\n",
        "\n",
        "from sklearn import model_selection\n",
        "from sklearn.model_selection import train_test_split\n",
        "from PIL import Image\n",
        "import os, glob\n",
        "import numpy as np"
      ],
      "execution_count": null,
      "outputs": []
    },
    {
      "cell_type": "markdown",
      "source": [
        "### 1. Data Set management "
      ],
      "metadata": {
        "id": "YQ7Mxay18sBr"
      }
    },
    {
      "cell_type": "code",
      "metadata": {
        "id": "eTVK6dRYcHWs"
      },
      "source": [
        "from PIL import Image\n",
        "root_dir = \"/content/drive/My Drive/sensorimage/Full_image/\"\n",
        "image_dir = root_dir + 'boar'\n",
        "cropimage_dir = \"/content/drive/My Drive/sensorimage/Clip_image/\"\n",
        "files = glob.glob(image_dir + \"/\" + \"*.JPG\")\n",
        "  # \"Full_image 에 있는 이미지를 잘라서 Clip_image 에 넣어라\" 는 명령\n",
        "\n",
        "for i, f in enumerate(files):\n",
        "  # 이미지 로딩 (3)\n",
        "  img = Image.open(f)\n",
        "  width , height = img.size\n",
        "  # 이미지 자르기\n",
        "  cropImage = img.crop((0, 0, width, height-200))\n",
        "  nameonly=os.path.splitext(f)\n",
        "  new_name=os.path.split(nameonly[0])\n",
        "  print(str(i) + '_' +new_name[1])\n",
        "  cropImage.save(cropimage_dir+'boar/'+new_name[1]+'.JPG')\n"
      ],
      "execution_count": null,
      "outputs": []
    },
    {
      "cell_type": "code",
      "metadata": {
        "id": "Dc7amQ1kmvti"
      },
      "source": [
        "from PIL import Image\n",
        "root_dir = \"/content/drive/My Drive/sensorimage/Full_image/\"\n",
        "image_dir = root_dir + 'others'\n",
        "cropimage_dir = \"/content/drive/My Drive/sensorimage/Clip_image/\"\n",
        "files = glob.glob(image_dir + \"/\" + \"*.JPG\")\n",
        "\n",
        "for i, f in enumerate(files):\n",
        "  # 이미지 로딩 (3)\n",
        "  img = Image.open(f)\n",
        "  width , height = img.size\n",
        "  # 이미지 자르기\n",
        "  cropImage = img.crop((0, 0, width, height-200))\n",
        "  nameonly=os.path.splitext(f)\n",
        "  new_name=os.path.split(nameonly[0])\n",
        "  print(str(i) + '_' +new_name[1])\n",
        "  cropImage.save(cropimage_dir+'others/'+new_name[1]+'.JPG')"
      ],
      "execution_count": null,
      "outputs": []
    },
    {
      "cell_type": "code",
      "metadata": {
        "id": "7P2xyA0xO0Eq"
      },
      "source": [
        "#others샘플링\n",
        "import random\n",
        "import shutil\n",
        "\n",
        "# (1) 숫자리스트 샘플링\n",
        "numlist=list(range(1,2287))\n",
        "s = random.sample(numlist, 228)\n",
        "#print(s)\n",
        "\n",
        "for i in s:\n",
        "  try:\n",
        "    fn= '{0:04d}'.format(i)\n",
        "    print(cropimage_dir+'others/N' + fn + '.JPG')\n",
        "    shutil.move(cropimage_dir+'others/N' + fn + '.JPG', cropimage_dir+'testdata/')\n",
        "  except FileNotFoundError:\n",
        "    pass    "
      ],
      "execution_count": null,
      "outputs": []
    },
    {
      "cell_type": "code",
      "metadata": {
        "id": "U6cdIjt6nGhQ"
      },
      "source": [
        "#boar샘플링\n",
        "import random\n",
        "import shutil\n",
        "\n",
        "# (1) 숫자리스트 샘플링\n",
        "numlist=list(range(1,2287))\n",
        "s = random.sample(numlist, 228)\n",
        "#print(s)\n",
        "\n",
        "for i in s:\n",
        "  try:\n",
        "    fn= '{0:04d}'.format(i)\n",
        "    print(cropimage_dir+'boar/Y' + fn + '.JPG')\n",
        "    shutil.move(cropimage_dir+'boar/Y' + fn + '.JPG', cropimage_dir+'testdata/')\n",
        "  except FileNotFoundError:\n",
        "    pass    "
      ],
      "execution_count": null,
      "outputs": []
    },
    {
      "cell_type": "code",
      "metadata": {
        "id": "VWCE0K1fzaBb"
      },
      "source": [
        "root_dir = \"/content/drive/My Drive/sensorimage/Clip_image/\"\n",
        "# 카테고리 명령 지정 (1)\n",
        "categories = [\"boar\", \"others\"] # deer, 등등 추가가능\n",
        "nb_classes = len(categories)"
      ],
      "execution_count": null,
      "outputs": []
    },
    {
      "cell_type": "code",
      "metadata": {
        "id": "LJ4Mk7W9zrHi"
      },
      "source": [
        "# 이미지 크기 지정 (2)\n",
        "image_width = 500\n",
        "image_height = 300"
      ],
      "execution_count": null,
      "outputs": []
    },
    {
      "cell_type": "code",
      "metadata": {
        "id": "yuSn0xdZz0p3"
      },
      "source": [
        "## 데이터 변수\n",
        "X = [] # 이미지 데이터, 이미지를 조각내서 넣음\n",
        "Y = [] # 레이블 데이터, 그래서 조각낸 이미지가 멧돼지인지 아닌지 판별"
      ],
      "execution_count": null,
      "outputs": []
    },
    {
      "cell_type": "code",
      "metadata": {
        "id": "J17roQ3cz6o3"
      },
      "source": [
        "for idx, category in enumerate(categories):\n",
        "    image_dir = root_dir + category\n",
        "    files = glob.glob(image_dir + \"/\" + \"*.JPG\")\n",
        "    print(image_dir + \"/\" +\"*.JPG\")\n",
        "\n",
        "    for i, f in enumerate(files):\n",
        "        # 이미지 로딩 (3)\n",
        "        print(image_dir + \"_\"+str(i))\n",
        "        img = Image.open(f)\n",
        "        img = img.convert(\"RGB\")\n",
        "        img = img.resize((image_width, image_height))\n",
        "        data = np.asarray(img)\n",
        "        X.append(data)\n",
        "        Y.append(idx)\n",
        "\n",
        "X = np.array(X)\n",
        "Y = np.array(Y)"
      ],
      "execution_count": null,
      "outputs": []
    },
    {
      "cell_type": "code",
      "metadata": {
        "id": "qEzN62_dAw-G",
        "colab": {
          "base_uri": "https://localhost:8080/"
        },
        "outputId": "1bba5a25-1b28-4bb4-dc57-77fcd7c1959e"
      },
      "source": [
        "# 학습 데이터와 테스트 데이터 나누기 (4)\n",
        "X_train, X_test, Y_train, Y_test = train_test_split(X, Y)\n",
        "\n",
        "xy = (X_train, X_test, Y_train, Y_test)\n",
        "# 데이터 파일 저장 (5)\n",
        "#from pyocser import ocdumps, ocloads\n",
        "#pickle.dump(d, open(\"file\", 'w'), protocol=4)\n",
        "np.save(root_dir + \"boar_others_500_300.npy\", xy, allow_pickle=True)\n",
        "#여기까지"
      ],
      "execution_count": null,
      "outputs": [
        {
          "output_type": "stream",
          "name": "stderr",
          "text": [
            "/usr/local/lib/python3.8/dist-packages/numpy/lib/npyio.py:528: VisibleDeprecationWarning: Creating an ndarray from ragged nested sequences (which is a list-or-tuple of lists-or-tuples-or ndarrays with different lengths or shapes) is deprecated. If you meant to do this, you must specify 'dtype=object' when creating the ndarray.\n",
            "  arr = np.asanyarray(arr)\n"
          ]
        }
      ]
    },
    {
      "cell_type": "code",
      "metadata": {
        "id": "ALUVcpMo0nEb",
        "colab": {
          "base_uri": "https://localhost:8080/",
          "height": 35
        },
        "outputId": "a764c6b0-ef4a-4056-e12b-f9d1e8915c4f"
      },
      "source": [
        "#file 복사\n",
        "#cp root_dir+\"/boar_N/*.jpg\" root_dir+\"/boar_all/\"\n",
        "\n",
        "import shutil\n",
        "shutil.copytree(root_dir+\"boar_N/\", root_dir+\"boar_all/\")"
      ],
      "execution_count": null,
      "outputs": [
        {
          "output_type": "execute_result",
          "data": {
            "text/plain": [
              "'/content/drive/My Drive/sensorimage/Clip_image/boar_all/'"
            ],
            "application/vnd.google.colaboratory.intrinsic+json": {
              "type": "string"
            }
          },
          "metadata": {},
          "execution_count": 21
        }
      ]
    },
    {
      "cell_type": "code",
      "metadata": {
        "id": "LrIVEndI8hYx"
      },
      "source": [
        "from distutils.dir_util import copy_tree\n",
        "copy_tree(root_dir+\"boar/\", root_dir+\"boar_all/\")"
      ],
      "execution_count": null,
      "outputs": []
    },
    {
      "cell_type": "markdown",
      "source": [
        "## classification ALEX net"
      ],
      "metadata": {
        "id": "vuQzFzR08xNz"
      }
    },
    {
      "cell_type": "code",
      "source": [
        "## 사용할 모델 라이브러리 import\n",
        "import sys, os\n",
        "from keras.models import Sequential\n",
        "from keras.layers import Convolution2D\n",
        "from keras.layers import MaxPooling2D\n",
        "from keras.layers import Activation\n",
        "from keras.layers import Dropout\n",
        "from keras.layers import Flatten\n",
        "from keras.layers import Dense\n",
        "from keras.utils import np_utils\n",
        "import numpy as np\n",
        "import tensorflow as tf\n",
        "from tensorflow.keras.callbacks import ModelCheckpoint"
      ],
      "metadata": {
        "id": "yYuZnn398zPK"
      },
      "execution_count": null,
      "outputs": []
    },
    {
      "cell_type": "code",
      "source": [
        "root_dir = \"/content/drive/My Drive/\"\n",
        "# 카테고리 명령 지정 (1)\n",
        "categories = [\"boar\", \"others\"]\n",
        "nb_classes = len(categories)\n",
        "image_size = 128"
      ],
      "metadata": {
        "id": "BaHVpNWp83jq"
      },
      "execution_count": null,
      "outputs": []
    },
    {
      "cell_type": "code",
      "source": [
        "def load_dataset():\n",
        "    x_train, x_test, y_train, y_test = np.load(root_dir+\"boar_others_500_300.npy\", allow_pickle=True)\n",
        "    #x_train, x_test, y_train, y_test = train_test_split(X, Y)\n",
        "    x_train = x_train.astype(\"float\") / 256\n",
        "    x_test = x_test.astype(\"float\") / 256\n",
        "    y_train = np_utils.to_categorical(y_train, nb_classes)\n",
        "    y_test = np_utils.to_categorical(y_test, nb_classes)\n",
        "    return  x_train, x_test, y_train, y_test"
      ],
      "metadata": {
        "id": "eZwUbr858-jS"
      },
      "execution_count": null,
      "outputs": []
    },
    {
      "cell_type": "code",
      "source": [
        "# 모델 구성  (2)\n",
        "def build_model(in_shape):\n",
        "    model = Sequential()\n",
        "    model.add(Convolution2D(64, 3, 3, padding='same', \n",
        "                input_shape=in_shape))\n",
        "    model.add(Activation('relu'))\n",
        "    model.add(MaxPooling2D(pool_size=(2,2)))\n",
        "    model.add(Dropout(0.25))\n",
        "    model.add(Convolution2D(128, 3, 3, padding='same'))\n",
        "    model.add(Activation('relu'))\n",
        "    model.add(Convolution2D(128, 3, 3))\n",
        "    model.add(MaxPooling2D(pool_size=(2,2)))\n",
        "    model.add(Dropout(0.25))\n",
        "    model.add(Flatten())\n",
        "    model.add(Dense(512))\n",
        "    model.add(Activation('relu'))\n",
        "    model.add(Dropout(0.5))\n",
        "    model.add(Dense(nb_classes))\n",
        "    model.add(Activation('softmax'))\n",
        "    model.compile(loss='binary_crossentropy', \n",
        "                    optimizer='rmsprop', \n",
        "                    metrics=['accuracy'])\n",
        "\n",
        "    return model"
      ],
      "metadata": {
        "id": "HL8f2AJe9Dkt"
      },
      "execution_count": null,
      "outputs": []
    },
    {
      "cell_type": "code",
      "source": [
        "import datetime\n",
        "\n",
        "\n",
        "# 학습데이터의 log를 저장할 폴더 생성 (지정)\n",
        "log_dir = \"logs/\" + datetime.datetime.now().strftime(\"%Y%m%d-%H%M%S\")\n",
        "print(log_dir)\n",
        "# 텐서보드 콜백 정의 하기\n",
        "tensorboard_callback = tf.keras.callbacks.TensorBoard(log_dir=log_dir, histogram_freq=1)\n"
      ],
      "metadata": {
        "id": "wUbXZKbI9HFV"
      },
      "execution_count": null,
      "outputs": []
    },
    {
      "cell_type": "code",
      "source": [
        "# 모델 학습을 수행하고 저장된 모델을 파일로 저장  (3)\n",
        "def model_train(x, y):\n",
        "    model = build_model(x.shape[1:])\n",
        "    model.fit(x, y, batch_size=32, epochs=30,\n",
        "              callbacks=[tensorboard_callback])\n",
        "\n",
        "    return model"
      ],
      "metadata": {
        "id": "lgYXhnjc9Mrg"
      },
      "execution_count": null,
      "outputs": []
    },
    {
      "cell_type": "code",
      "source": [
        "# 모델 평가하기  (4)\n",
        "def model_eval(model, x, y):\n",
        "    score = model.evaluate(x, y)\n",
        "    print('loss=', score[0])\n",
        "    print('accuracy=', score[1])"
      ],
      "metadata": {
        "id": "pALiYmJJ9NyS"
      },
      "execution_count": null,
      "outputs": []
    },
    {
      "cell_type": "code",
      "source": [
        "x_train, x_test, y_train, y_test = load_dataset()"
      ],
      "metadata": {
        "id": "4QTIpMrW9SAq"
      },
      "execution_count": null,
      "outputs": []
    },
    {
      "cell_type": "code",
      "source": [
        "model = model_train(x_train, y_train)"
      ],
      "metadata": {
        "id": "-8O0_pnC9WAa"
      },
      "execution_count": null,
      "outputs": []
    },
    {
      "cell_type": "code",
      "source": [
        "model_eval(model, x_test, y_test)"
      ],
      "metadata": {
        "id": "AYxJJM6O9Yh4"
      },
      "execution_count": null,
      "outputs": []
    },
    {
      "cell_type": "code",
      "source": [
        "# 모델 학습 및 평가\n",
        "x_train, x_test, y_train, y_test = load_dataset()\n",
        "model = model_train(x_train, y_train)\n",
        "model_eval(model, x_test, y_test)"
      ],
      "metadata": {
        "id": "hhbgt8xw9ZTi"
      },
      "execution_count": null,
      "outputs": []
    },
    {
      "cell_type": "code",
      "source": [
        "%load_ext tensorboard"
      ],
      "metadata": {
        "id": "S-3oUiuW9dOC"
      },
      "execution_count": null,
      "outputs": []
    },
    {
      "cell_type": "code",
      "source": [
        "%tensorboard --logdir {log_dir}"
      ],
      "metadata": {
        "id": "X0JCjF0F9g-q"
      },
      "execution_count": null,
      "outputs": []
    },
    {
      "cell_type": "code",
      "source": [
        "# 모델 저장\n",
        "model.save(root_dir+\"boar_model_500_300.h5\")   # saving model "
      ],
      "metadata": {
        "id": "z5_DjXFT9jwi"
      },
      "execution_count": null,
      "outputs": []
    },
    {
      "cell_type": "markdown",
      "source": [
        "## 3. detect and test"
      ],
      "metadata": {
        "id": "wg3cLA0L9v3q"
      }
    },
    {
      "cell_type": "code",
      "source": [
        "root_dir = \"/content/drive/My Drive/sensorimage/Clip_image/\""
      ],
      "metadata": {
        "id": "Tj6X7bAR9vVb"
      },
      "execution_count": null,
      "outputs": []
    },
    {
      "cell_type": "code",
      "source": [
        "#-*- coding: utf-8 -*-\n",
        "\n",
        "import sys, os\n",
        "from keras.models import Sequential\n",
        "from keras.layers import Convolution2D, MaxPooling2D\n",
        "from keras.layers import Activation, Dropout, Flatten, Dense\n",
        "from keras.utils import np_utils\n",
        "from keras.models import load_model\n",
        "from PIL import Image\n",
        "import os, glob\n",
        "import numpy as np"
      ],
      "metadata": {
        "id": "-1F1-r1o-EXV"
      },
      "execution_count": null,
      "outputs": []
    },
    {
      "cell_type": "code",
      "source": [
        "# 테스트 이미지 목록 (1)\n",
        "\n",
        "image_files = glob.glob(root_dir+\"testdata/\" +  \"*.JPG\")\n",
        "image_size1 = 300\n",
        "image_size2 = 500\n",
        "nb_classes = len(image_files)\n",
        "categories = [\"boar\", \"others\"]"
      ],
      "metadata": {
        "id": "rqSHRhQV-GoK"
      },
      "execution_count": null,
      "outputs": []
    },
    {
      "cell_type": "code",
      "source": [
        "X = []\n",
        "files = []\n",
        "# 이미지 불러오기 (2)\n",
        "for fname in image_files:\n",
        "    img = Image.open(fname)\n",
        "    img = img.convert(\"RGB\")\n",
        "    img = img.resize((image_size2, image_size1))\n",
        "    in_data = np.asarray(img)\n",
        "    in_data = in_data.astype(\"float\") / 256\n",
        "    X.append(in_data)\n",
        "    files.append(fname)\n",
        "\n",
        "X = np.array(X)"
      ],
      "metadata": {
        "id": "iQV-kQ92-HdW"
      },
      "execution_count": null,
      "outputs": []
    },
    {
      "cell_type": "code",
      "source": [
        "# 모델 파일 읽어오기  (3)\n",
        "model = load_model(root_dir+'boar_model_500_300.h5') # load model"
      ],
      "metadata": {
        "id": "daHi6aGI-Mb2"
      },
      "execution_count": null,
      "outputs": []
    },
    {
      "cell_type": "code",
      "source": [
        "# 예측 실행  (4)\n",
        "pre = model.predict(X)   # model predict"
      ],
      "metadata": {
        "id": "SJqwJWLO-PhL"
      },
      "execution_count": null,
      "outputs": []
    },
    {
      "cell_type": "code",
      "source": [
        "import pandas as pd\n",
        "df = pd.DataFrame(columns=range(3))\n",
        "df.columns=['test_file','예측값','예측확률']"
      ],
      "metadata": {
        "id": "L6rI9ura-Un6"
      },
      "execution_count": null,
      "outputs": []
    },
    {
      "cell_type": "code",
      "source": [
        "# saving predicted file \n",
        "for i, p in enumerate(pre):\n",
        "    y = p.argmax()\n",
        "    #print(\"입력:\", files[i])\n",
        "    #print(\"예측:\", \"[\", y, \"]\", categories[y], \"/ Score\",p[y])\n",
        "    df.loc[i]=[files[i],categories[y],p[y]]\n",
        "\n",
        "df    \n",
        "\n",
        "df.to_excel(root_dir+\"boar_\"+str(image_size1)+\"_\"+str(image_size2)+\".xlsx\")"
      ],
      "metadata": {
        "id": "oHUR3uHD-ZjF"
      },
      "execution_count": null,
      "outputs": []
    },
    {
      "cell_type": "markdown",
      "source": [
        "########### The End ###############"
      ],
      "metadata": {
        "id": "NknnYEx7-m85"
      }
    },
    {
      "cell_type": "code",
      "source": [],
      "metadata": {
        "id": "t3CjJlos-dTq"
      },
      "execution_count": null,
      "outputs": []
    }
  ]
}